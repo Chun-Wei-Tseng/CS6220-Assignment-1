{
  "cells": [
    {
      "cell_type": "code",
      "execution_count": 1,
      "metadata": {
        "id": "bdM6NSRawQsw",
        "colab": {
          "base_uri": "https://localhost:8080/"
        },
        "outputId": "a76ab7cc-e123-44f9-9aaf-3ff84cd3101f"
      },
      "outputs": [
        {
          "output_type": "stream",
          "name": "stdout",
          "text": [
            "Data in combined_data_1.txt looks like this: \n",
            "\n",
            "1:\n",
            "1488844,3,2005-09-06\n",
            "822109,5,2005-05-13\n",
            "885013,4,2005-10-19\n",
            "30878,4,2005-12-26\n",
            "\n",
            "\n",
            "Data in movie_titles.csv looks like this: \n",
            "\n",
            "1,2003,Dinosaur Planet\n",
            "2,2004,Isle of Man TT 2004 Review\n",
            "3,1997,Character\n",
            "4,1994,Paula Abdul's Get Up & Dance\n",
            "5,2004,The Rise and Fall of ECW\n"
          ]
        }
      ],
      "source": [
        "#@title Download the data from website\n",
        "!wget -nc https://course.ccs.neu.edu/cs6220/fall2023/homework-1/netflix-data/movie_titles.csv\n",
        "!wget -nc https://course.ccs.neu.edu/cs6220/fall2023/homework-1/netflix-data/combined_data_1.txt\n",
        "!wget -nc https://course.ccs.neu.edu/cs6220/fall2023/homework-1/netflix-data/combined_data_2.txt\n",
        "!wget -nc https://course.ccs.neu.edu/cs6220/fall2023/homework-1/netflix-data/combined_data_3.txt\n",
        "!wget -nc https://course.ccs.neu.edu/cs6220/fall2023/homework-1/netflix-data/combined_data_4.txt\n",
        "\n",
        "from IPython.display import clear_output\n",
        "clear_output()\n",
        "\n",
        "print(\"Data in combined_data_1.txt looks like this: \\n\")\n",
        "!head -5 combined_data_1.txt\n",
        "\n",
        "print(\"\\n\\nData in movie_titles.csv looks like this: \\n\")\n",
        "!head -5 movie_titles.csv"
      ]
    },
    {
      "cell_type": "code",
      "source": [
        "f = open(\"movie_titles.csv\", encoding =\"cp1252\")\n",
        "data_lines = open(\"combined_data_1.txt\", \"r\").readlines()"
      ],
      "metadata": {
        "id": "yljOq5Mod1Q2"
      },
      "execution_count": 2,
      "outputs": []
    },
    {
      "cell_type": "markdown",
      "source": [
        "Coding Review - 1"
      ],
      "metadata": {
        "id": "TkwBOE4QtDXA"
      }
    },
    {
      "cell_type": "code",
      "source": [
        "def cardinality_items(filename):\n",
        "  unique_items = set()\n",
        "  with open(filename, \"r\") as file:\n",
        "    for line in file:\n",
        "      items = line.strip().split(', ')\n",
        "      for item in items:\n",
        "        unique_items.add(item)\n",
        "  return len(unique_items)"
      ],
      "metadata": {
        "id": "7ZskbwVztQv6"
      },
      "execution_count": 15,
      "outputs": []
    },
    {
      "cell_type": "code",
      "source": [
        "n1 = cardinality_items('basket_data.csv')\n",
        "print(\"Cardinality in basket_data.csv:\", n1)"
      ],
      "metadata": {
        "colab": {
          "base_uri": "https://localhost:8080/"
        },
        "id": "MSQxNT9rt4vX",
        "outputId": "173bb6f4-b777-4277-f244-7bbe181630b5"
      },
      "execution_count": 16,
      "outputs": [
        {
          "output_type": "stream",
          "name": "stdout",
          "text": [
            "Cardinality in basket_data.csv: 21\n"
          ]
        }
      ]
    },
    {
      "cell_type": "markdown",
      "source": [
        "Coding Review - 2"
      ],
      "metadata": {
        "id": "8l5n_V1etKW4"
      }
    },
    {
      "cell_type": "code",
      "source": [
        "def all_itemsets(items, n):\n",
        "    res = []\n",
        "    def backtrack(temp, i):\n",
        "        if len(temp) == n:\n",
        "            res.append(temp.copy())\n",
        "            return\n",
        "        for j in range(i, len(items)):\n",
        "            temp.append(items[j])\n",
        "            backtrack(temp, j + 1)\n",
        "            temp.pop()\n",
        "    backtrack([], 0)\n",
        "    return res\n",
        "print(all_itemsets([\"ham\",\"cheese\",\"bread\"], 2))"
      ],
      "metadata": {
        "colab": {
          "base_uri": "https://localhost:8080/"
        },
        "id": "9htDlwShtMxp",
        "outputId": "733fbf64-1f91-4a1e-f358-f8b3fb20dba5"
      },
      "execution_count": 12,
      "outputs": [
        {
          "output_type": "stream",
          "name": "stdout",
          "text": [
            "[['ham', 'cheese'], ['ham', 'bread'], ['cheese', 'bread']]\n"
          ]
        }
      ]
    },
    {
      "cell_type": "markdown",
      "source": [
        "3.Let's review combined_data_*.txt."
      ],
      "metadata": {
        "id": "D_GrtEUWvpWn"
      }
    },
    {
      "cell_type": "markdown",
      "source": [
        "a. How many total records of movie ratings are there in the entire dataset (over all of combined_data_*.txt)?"
      ],
      "metadata": {
        "id": "taLbsKRwxwaS"
      }
    },
    {
      "cell_type": "code",
      "source": [
        "l1 = 0\n",
        "with open(\"combined_data_1.txt\", \"r\") as file:\n",
        "  for line in file:\n",
        "    if len(line.strip().split(',')) == 3:\n",
        "      l1 += 1\n",
        "print(\"Number of Records in combined_data_1.txt: \", l1)\n",
        "l2 = 0\n",
        "with open(\"combined_data_2.txt\", \"r\") as file:\n",
        "  for line in file:\n",
        "    if len(line.strip().split(',')) == 3:\n",
        "      l2 += 1\n",
        "print(\"Number of Records in combined_data_2.txt: \", l2)\n",
        "l3 = 0\n",
        "with open(\"combined_data_3.txt\", \"r\") as file:\n",
        "  for line in file:\n",
        "    if len(line.strip().split(',')) == 3:\n",
        "      l3 += 1\n",
        "print(\"Number of Records in combined_data_3.txt: \", l3)\n",
        "l4 = 0\n",
        "with open(\"combined_data_4.txt\", \"r\") as file:\n",
        "  for line in file:\n",
        "    if len(line.strip().split(',')) == 3:\n",
        "      l4 += 1\n",
        "print(\"Number of Records in combined_data_4.txt: \", l4)\n",
        "TotalR = l1 + l2 + l3 + l4\n",
        "print(\"Total records of movie ratings in the entire dataset: \", TotalR)"
      ],
      "metadata": {
        "colab": {
          "base_uri": "https://localhost:8080/"
        },
        "id": "BD7ECkFeyWbs",
        "outputId": "8335cbc6-6bd5-45d1-bd2d-635e91728ca4"
      },
      "execution_count": 7,
      "outputs": [
        {
          "output_type": "stream",
          "name": "stdout",
          "text": [
            "Number of Records in combined_data_1.txt:  24053764\n",
            "Number of Records in combined_data_2.txt:  26977591\n",
            "Number of Records in combined_data_3.txt:  22601629\n",
            "Number of Records in combined_data_4.txt:  26847523\n",
            "Total records of movie ratings in the entire dataset:  100480507\n"
          ]
        }
      ]
    },
    {
      "cell_type": "markdown",
      "source": [
        "b. How many total unique users are there in the entire dataset (over all of combined_data_*.txt)?"
      ],
      "metadata": {
        "id": "lXh0QFJnyahP"
      }
    },
    {
      "cell_type": "code",
      "source": [
        "unique_users = set()\n",
        "with open(\"combined_data_1.txt\", \"r\") as file:\n",
        "  for line in file:\n",
        "    user = line.strip().split(',')\n",
        "    if len(user) == 3:\n",
        "      unique_users.add(user[0])\n",
        "with open(\"combined_data_2.txt\", \"r\") as file:\n",
        "  for line in file:\n",
        "    user = line.strip().split(',')\n",
        "    if len(user) == 3:\n",
        "      unique_users.add(user[0])\n",
        "with open(\"combined_data_3.txt\", \"r\") as file:\n",
        "  for line in file:\n",
        "    user = line.strip().split(',')\n",
        "    if len(user) == 3:\n",
        "      unique_users.add(user[0])\n",
        "with open(\"combined_data_4.txt\", \"r\") as file:\n",
        "  for line in file:\n",
        "    user = line.strip().split(',')\n",
        "    if len(user) == 3:\n",
        "      unique_users.add(user[0])\n",
        "print(\"Total number of unique users\", len(unique_users))"
      ],
      "metadata": {
        "colab": {
          "base_uri": "https://localhost:8080/"
        },
        "id": "V3JUpzobyrMm",
        "outputId": "85730a6c-f495-4961-ffa6-fcab6e70848e"
      },
      "execution_count": 8,
      "outputs": [
        {
          "output_type": "stream",
          "name": "stdout",
          "text": [
            "Total number of unique users 480189\n"
          ]
        }
      ]
    },
    {
      "cell_type": "markdown",
      "source": [
        "c. What is the range of years that this data is valid over?"
      ],
      "metadata": {
        "id": "EFClahOmysdc"
      }
    },
    {
      "cell_type": "code",
      "source": [
        "years = set()\n",
        "with open(\"combined_data_4.txt\", \"r\") as file:\n",
        "  file.readline()\n",
        "  for line in file:\n",
        "    record = file.readline().strip().split(',')\n",
        "    if len(record) < 2:\n",
        "      continue\n",
        "    date = record[2].strip().split('-')\n",
        "    year = date[0]\n",
        "    years.add(year)\n",
        "print(years)\n",
        "print(\"The range of years that this data is valid over: \", min(years), \"~\", max(years))"
      ],
      "metadata": {
        "colab": {
          "base_uri": "https://localhost:8080/"
        },
        "id": "iSCvdD15y2Bp",
        "outputId": "418f4e61-2eb5-4bcd-a028-8c89e96fa598"
      },
      "execution_count": 14,
      "outputs": [
        {
          "output_type": "stream",
          "name": "stdout",
          "text": [
            "{'2001', '2002', '2000', '2004', '2005', '1999', '2003'}\n",
            "The range of years that this data is valid over:  1999 ~ 2005\n"
          ]
        }
      ]
    },
    {
      "cell_type": "markdown",
      "source": [
        "4.Let's review movie_titles.csv."
      ],
      "metadata": {
        "id": "MCuw-TapgDnz"
      }
    },
    {
      "cell_type": "markdown",
      "source": [
        "a. How many movies with unique names are there?"
      ],
      "metadata": {
        "id": "10iWRhS_gLvT"
      }
    },
    {
      "cell_type": "code",
      "source": [
        "unique_names = set()\n",
        "with open(\"movie_titles.csv\", \"r\", encoding =\"cp1252\") as file:\n",
        "  for line in file:\n",
        "    row = line.strip().split(',')\n",
        "    if len(row) >= 3:\n",
        "      title = \" \".join(row[2:]).strip()\n",
        "      unique_names.add(title)\n",
        "print(\"Number of movies with unique names: \", len(unique_names))"
      ],
      "metadata": {
        "colab": {
          "base_uri": "https://localhost:8080/"
        },
        "id": "9BUGlE9_gStE",
        "outputId": "63d33f4b-1f45-4c84-873f-85a8305c137d"
      },
      "execution_count": 18,
      "outputs": [
        {
          "output_type": "stream",
          "name": "stdout",
          "text": [
            "Number of movies with unique names:  17359\n"
          ]
        }
      ]
    },
    {
      "cell_type": "markdown",
      "source": [
        "b. How many movie names refer to four different movies?"
      ],
      "metadata": {
        "id": "TpyP_3k1gTcD"
      }
    },
    {
      "cell_type": "code",
      "source": [
        "name_dict = {}\n",
        "with open(\"movie_titles.csv\", \"r\", encoding =\"cp1252\") as file:\n",
        "  for line in file:\n",
        "    row = line.strip().split(',')\n",
        "    if len(row) >= 3:\n",
        "      title = \" \".join(row[2:]).strip()\n",
        "      name_dict[title] = 1 + name_dict.get(row[2], 0)\n",
        "count = 0\n",
        "for key in name_dict:\n",
        "  if name_dict[key] == 4:\n",
        "    count += 1\n",
        "print(\"Number of movie names referring to four different movies: \", count)"
      ],
      "metadata": {
        "colab": {
          "base_uri": "https://localhost:8080/"
        },
        "id": "sontBDaTgcAR",
        "outputId": "13c80099-fb7b-41d8-cd44-5b027e93ef48"
      },
      "execution_count": 19,
      "outputs": [
        {
          "output_type": "stream",
          "name": "stdout",
          "text": [
            "Number of movie names referring to four different movies:  5\n"
          ]
        }
      ]
    },
    {
      "cell_type": "markdown",
      "source": [
        "5. Let's review both."
      ],
      "metadata": {
        "id": "37jNrYWvw-VO"
      }
    },
    {
      "cell_type": "markdown",
      "source": [
        "a. How many users rated exactly 200 movies?"
      ],
      "metadata": {
        "id": "5mAePE9gxBaO"
      }
    },
    {
      "cell_type": "code",
      "source": [
        "rate_map = {}\n",
        "with open(\"combined_data_1.txt\", \"r\") as file:\n",
        "  file.readline()\n",
        "  for line in file:\n",
        "    user = line.strip().split(',')\n",
        "    rate_map[user[0]] = 1 + rate_map.get(user[0], 0)\n",
        "with open(\"combined_data_2.txt\", \"r\") as file:\n",
        "  file.readline()\n",
        "  for line in file:\n",
        "    user = line.strip().split(',')\n",
        "    rate_map[user[0]] = 1 + rate_map.get(user[0], 0)\n",
        "with open(\"combined_data_3.txt\", \"r\") as file:\n",
        "  file.readline()\n",
        "  for line in file:\n",
        "    user = line.strip().split(',')\n",
        "    rate_map[user[0]] = 1 + rate_map.get(user[0], 0)\n",
        "with open(\"combined_data_4.txt\", \"r\") as file:\n",
        "  file.readline()\n",
        "  for line in file:\n",
        "    user = line.strip().split(',')\n",
        "    rate_map[user[0]] = 1 + rate_map.get(user[0], 0)\n",
        "count2 = 0\n",
        "user_with_200_rating = []\n",
        "for key in rate_map:\n",
        "  if rate_map[key] == 200:\n",
        "    count2 += 1\n",
        "    user_with_200_rating.append(int(key))\n",
        "print(\"Number of users rated exactly 200 movies: \", count2)\n",
        "print(user_with_200_rating)"
      ],
      "metadata": {
        "colab": {
          "base_uri": "https://localhost:8080/"
        },
        "id": "ZVCpP2ZexIWY",
        "outputId": "0df4ac25-3d1a-455c-8839-cba72d427c92"
      },
      "execution_count": 11,
      "outputs": [
        {
          "output_type": "stream",
          "name": "stdout",
          "text": [
            "Number of users rated exactly 200 movies:  605\n",
            "[623036, 1839976, 2491723, 2360612, 2253583, 2067541, 1395432, 1972563, 150137, 1294723, 982872, 1109496, 882420, 534141, 62741, 2535384, 2153033, 1937603, 2239840, 107786, 2265427, 2497412, 1599205, 2484071, 757438, 1873590, 919564, 262807, 32583, 1462506, 2415919, 2564293, 681935, 1280746, 2231968, 655121, 712312, 2125551, 1534594, 1986641, 2261547, 845185, 2022621, 1989902, 1806647, 1109870, 885445, 1211519, 785311, 375499, 276389, 528122, 1363135, 1588604, 1658, 1108976, 1655303, 2557984, 2352203, 1835967, 1908333, 2218782, 1089111, 2083736, 1266684, 759578, 417402, 2214856, 1368067, 1539141, 1134459, 1354250, 747877, 2215435, 2090997, 1468324, 907300, 2236414, 1788650, 2423180, 1268261, 2207302, 2088799, 81105, 2621205, 1185788, 1360499, 930399, 256067, 2461728, 1767631, 1571428, 616722, 2357606, 1749434, 1408087, 2086476, 752514, 1027992, 2084769, 2428211, 441919, 312958, 1107322, 1273784, 894202, 1021701, 485382, 464726, 413374, 773977, 2315636, 2120507, 96409, 812369, 610009, 896991, 223897, 2490308, 797172, 849756, 1670333, 159859, 1159937, 136351, 1161890, 1481095, 1662904, 2198533, 1865844, 455709, 1947587, 2198055, 1152051, 2583333, 2333075, 1382640, 1564924, 1020804, 685665, 1040995, 2318605, 433475, 2483082, 2151642, 442033, 1407464, 2368380, 287434, 2632651, 1069608, 584282, 2220618, 874918, 328328, 1211021, 1942632, 266776, 2064046, 557652, 1636761, 1884708, 329047, 2260760, 2381849, 137487, 1695863, 255100, 1558062, 1528413, 1504635, 2450718, 1025260, 1368244, 127670, 2361865, 675297, 1855996, 88574, 1209226, 782233, 1389888, 203212, 86848, 2402999, 1563814, 1381099, 2053338, 1846054, 1335600, 1547570, 2305368, 1875355, 1971220, 522353, 1396650, 452652, 2035871, 1356146, 1542122, 2446006, 429880, 2497060, 1307692, 2233538, 1546059, 199795, 498766, 2094726, 1110837, 1631923, 1347648, 13597, 1828297, 1855431, 1594460, 978780, 1796077, 137517, 2148439, 1131121, 1867352, 2078943, 775762, 1308266, 2425782, 2122976, 1433525, 1284980, 732370, 2539254, 900145, 446858, 2324045, 1231495, 1985166, 2282687, 1015836, 2542396, 247273, 857454, 1316274, 1098910, 458288, 2159991, 857151, 2295692, 979476, 89390, 1991843, 732708, 1814230, 764086, 792068, 2505745, 1475441, 175016, 923021, 59172, 664816, 2338503, 648667, 989070, 46928, 572787, 1865678, 1678096, 678509, 40403, 1603248, 319954, 2032172, 2164508, 515219, 2031782, 2134331, 2137137, 1917099, 903193, 2181717, 147989, 2627118, 767692, 271992, 1831569, 2506893, 424128, 280056, 68409, 1508547, 1789361, 1730678, 225592, 616046, 588383, 1946842, 1326168, 1644322, 2295287, 2646630, 1090735, 581648, 1920759, 2190822, 155525, 1901597, 1015633, 2339545, 924956, 1419916, 1699820, 420812, 550515, 588687, 1022225, 1510766, 2494252, 2278649, 1901694, 1794068, 93042, 2629834, 2601326, 461227, 2127258, 2379883, 925635, 2273429, 1139591, 876980, 381988, 2508105, 4089, 222081, 121086, 2582631, 2223031, 1147445, 471266, 626164, 1711448, 164027, 1816721, 2273696, 588256, 1986608, 2454190, 1420876, 502410, 1072858, 1128453, 1920102, 729556, 860121, 979767, 2527162, 265183, 11070, 1480605, 2237481, 1687708, 280140, 2591325, 1622557, 2456552, 2590257, 459331, 2025061, 1114384, 256943, 318769, 1695967, 1494528, 431762, 2216182, 31700, 2343707, 1997987, 520363, 2341148, 441900, 1275782, 461171, 1719820, 2351561, 2566408, 680129, 1571485, 1481710, 2287832, 1982402, 454700, 1494874, 2547082, 1948319, 2279559, 336417, 1648094, 1248284, 2611671, 2632139, 1570353, 151033, 1795768, 1603148, 2260582, 931529, 638434, 2238575, 2408123, 904648, 1924584, 888647, 2223311, 1043332, 2253337, 1256078, 598263, 127681, 1884882, 1449077, 393405, 2068182, 610675, 606329, 1299405, 2126657, 818164, 912110, 1396142, 672947, 437270, 1802419, 1708264, 478435, 2085050, 1601971, 2067606, 1244466, 285382, 906316, 2000480, 1042014, 1747109, 982825, 8685, 533445, 1517357, 1775466, 931098, 321704, 2244392, 1513781, 1209575, 554395, 1537142, 2580248, 2488236, 1249815, 40359, 819313, 238150, 2128901, 401613, 247346, 1347283, 791508, 2308764, 2556930, 480243, 2048743, 1491288, 1895630, 2034574, 2284041, 1125940, 543807, 2210250, 2364917, 782456, 1055660, 1290772, 1248132, 1625020, 735537, 157214, 2264749, 2023527, 1306147, 2352191, 1806594, 1415881, 2428851, 377763, 532102, 1374704, 1533444, 1296140, 2287089, 949898, 845397, 1502732, 1836339, 668178, 1294916, 750, 2302303, 818793, 2471502, 1981245, 8450, 1255727, 1650395, 1362153, 459899, 1617771, 2437561, 889231, 994741, 1046054, 133745, 463942, 1035278, 653956, 1504926, 2262322, 2205732, 2475909, 508, 1779229, 2132893, 24333, 845976, 2332114, 1738271, 1746302, 1481839, 500932, 693985, 2405100, 3295, 208137, 857665, 367355, 488614, 344975, 2168661, 486663, 513041, 1818538, 2221746, 2392002, 1528877, 544070, 1323805, 614201, 2457728, 188664, 1001192, 1138813, 263581, 2066211, 642298, 452028, 1560835, 1457716, 1575155, 2040981, 1758644, 299003, 465568, 793653, 1524995, 907290, 1351759, 902683, 56165, 1621348, 2312930, 1923390, 828567, 833385, 798797, 2096236, 1620173, 1310754, 294173, 1477460, 2568172, 1661730, 20725, 957118, 1244307, 51570, 313299, 1622503, 1773343, 597227, 2249703, 1188750, 1503737, 2098228, 2129990, 861325, 2300948]\n"
          ]
        }
      ]
    },
    {
      "cell_type": "markdown",
      "source": [
        "b. Of these users, take the lowest user ID and print out the names of the movies that they liked the most (all 5 star ratings)."
      ],
      "metadata": {
        "id": "khVOVFAkxI3-"
      }
    },
    {
      "cell_type": "code",
      "source": [
        "minUserID = min(user_with_200_rating)\n",
        "min_user_movie_list = set()\n",
        "print(\"User with the lowest user ID: \", minUserID)\n",
        "with open(\"combined_data_1.txt\", \"r\") as file:\n",
        "  for line in file:\n",
        "    row = line.strip().split(',')\n",
        "    if len(row) == 1:\n",
        "      movieID = row[0]\n",
        "    if len(row) >= 3 and int(row[0]) == minUserID and int(row[1]) == 5:\n",
        "      min_user_movie_list.add(int(movieID.replace(\":\", \"\").strip(\"\\n\")))\n",
        "with open(\"combined_data_2.txt\", \"r\") as file:\n",
        "  for line in file:\n",
        "    row = line.strip().split(',')\n",
        "    if len(row) == 1:\n",
        "      movieID = row[0]\n",
        "    if len(row) >= 3 and int(row[0]) == minUserID and int(row[1]) == 5:\n",
        "      min_user_movie_list.add(int(movieID.replace(\":\", \"\").strip(\"\\n\")))\n",
        "with open(\"combined_data_3.txt\", \"r\") as file:\n",
        "  for line in file:\n",
        "    row = line.strip().split(',')\n",
        "    if len(row) == 1:\n",
        "      movieID = row[0]\n",
        "    if len(row) >= 3 and int(row[0]) == minUserID and int(row[1]) == 5:\n",
        "      min_user_movie_list.add(int(movieID.replace(\":\", \"\").strip(\"\\n\")))\n",
        "with open(\"combined_data_4.txt\", \"r\") as file:\n",
        "  for line in file:\n",
        "    row = line.strip().split(',')\n",
        "    if len(row) == 1:\n",
        "      movieID = row[0]\n",
        "    if len(row) >= 3 and int(row[0]) == minUserID and int(row[1]) == 5:\n",
        "      min_user_movie_list.add(int(movieID.replace(\":\", \"\").strip(\"\\n\")))\n",
        "res = []\n",
        "with open(\"movie_titles.csv\", \"r\", encoding =\"cp1252\") as file:\n",
        "  for line in file:\n",
        "    row = line.strip().split(\",\")\n",
        "    if int(row[0]) in min_user_movie_list:\n",
        "      title = \" \".join(row[2:]).strip()\n",
        "      res.append(title)\n",
        "print(\"Names of the movies that they like the most: \", res)"
      ],
      "metadata": {
        "colab": {
          "base_uri": "https://localhost:8080/"
        },
        "id": "wY-_UVUsxXzI",
        "outputId": "16055349-5115-48dd-f696-b9e2121783de"
      },
      "execution_count": 20,
      "outputs": [
        {
          "output_type": "stream",
          "name": "stdout",
          "text": [
            "User with the lowest user ID:  508\n",
            "Names of the movies that they like the most:  ['High Fidelity', \"Monty Python's The Meaning of Life: Special Edition\", 'American Beauty', 'Roger & Me', 'Eternal Sunshine of the Spotless Mind', 'Being John Malkovich', 'Vietnam: A Television History', 'Super Size Me', 'Lord of the Rings: The Fellowship of the Ring', 'This Is Spinal Tap', 'The Pianist', 'The Silence of the Lambs', 'Sideways', 'Whale Rider', 'Garden State', 'Bowling for Columbine', 'Gandhi', 'Apocalypse Now Redux', 'To Die For', \"Monty Python's Life of Brian\", 'The Manchurian Candidate', 'Memento', 'Amelie', 'Apocalypse Now', 'The Usual Suspects', 'Lord of the Rings: The Two Towers: Extended Edition', 'The Lord of the Rings: The Fellowship of the Ring: Extended Edition', 'Touching the Void', 'Minority Report', 'The Royal Tenenbaums', 'Election', 'Good Will Hunting', 'L.A. Confidential', 'Taxi Driver', 'Lord of the Rings: The Two Towers', 'Cabaret', 'Adaptation', 'The Accused', 'Lost in Translation', \"Boys Don't Cry\", 'To Be and To Have', \"Schindler's List\", 'Raging Bull', 'Lord of the Rings: The Return of the King', 'Monty Python and the Holy Grail', 'Raising Arizona', 'The Shawshank Redemption: Special Edition', 'Harold and Maude', 'Downfall', 'Lord of the Rings: The Return of the King: Extended Edition', 'Monster', 'Band of Brothers', 'Three Kings', 'Unforgiven', 'Maria Full of Grace', 'Days of Wine and Roses', 'Shakespeare in Love']\n"
          ]
        }
      ]
    }
  ],
  "metadata": {
    "colab": {
      "provenance": []
    },
    "kernelspec": {
      "display_name": "Python 3",
      "name": "python3"
    },
    "language_info": {
      "name": "python"
    }
  },
  "nbformat": 4,
  "nbformat_minor": 0
}